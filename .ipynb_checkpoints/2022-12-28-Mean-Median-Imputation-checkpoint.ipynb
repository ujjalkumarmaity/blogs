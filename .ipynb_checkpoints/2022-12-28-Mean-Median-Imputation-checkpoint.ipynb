{
 "cells": [
  {
   "cell_type": "markdown",
   "id": "f8b3c345",
   "metadata": {},
   "source": [
    "---\n",
    "title: \"Matplotlib Demo\"\n",
    "author: \"Norah Smith\"\n",
    "date: \"5/22/2021\"\n",
    "format: \n",
    "  html:\n",
    "    code-fold: true\n",
    "jupyter: python3\n",
    "---"
   ]
  },
  {
   "cell_type": "markdown",
   "id": "7c5d674c",
   "metadata": {},
   "source": [
    "# Mean & Median Imputation\n",
    "> All about Mean & Median Imputation.\n",
    "\n",
    "- toc: true\n",
    "- badges: true\n",
    "- comments: true\n",
    "- categories: [jupyter]"
   ]
  },
  {
   "cell_type": "markdown",
   "id": "e8a1a7cd",
   "metadata": {},
   "source": [
    "**When we can use**\n",
    "- Data is missing completly random\n",
    "- No more the 5% of the variable contain missing \n",
    "\n",
    "**Mean/Median Imputation Assumptions**\n",
    "- Data is missing at random\n",
    "\n",
    "**Mean/Median Imputation Advantage**\n",
    "- Easy to implement\n",
    "- Fast way of obtaining in complete dataset\n",
    "\n",
    "**Mean/Median Imputation Limitation**\n",
    "- Distortion of the original variable distrubtion & variance\n",
    "- Higher percentage of NA, the higher distortion\n",
    "\n",
    "**Improtant Note**\n",
    "- If variable is **normal distributed then mean imutation is better**\n",
    "- If variable is **skewed then median imutation is better**\n",
    "- Imputation value should be **calculated in training set and same value impute in test set**"
   ]
  },
  {
   "cell_type": "code",
   "execution_count": 1,
   "id": "798cb886",
   "metadata": {},
   "outputs": [],
   "source": [
    "import pandas as pd\n",
    "import numpy as np\n",
    "import seaborn as sns\n",
    "import matplotlib.pyplot as plt"
   ]
  },
  {
   "cell_type": "code",
   "execution_count": 9,
   "id": "c4300884",
   "metadata": {},
   "outputs": [
    {
     "data": {
      "text/html": [
       "<div>\n",
       "<style scoped>\n",
       "    .dataframe tbody tr th:only-of-type {\n",
       "        vertical-align: middle;\n",
       "    }\n",
       "\n",
       "    .dataframe tbody tr th {\n",
       "        vertical-align: top;\n",
       "    }\n",
       "\n",
       "    .dataframe thead th {\n",
       "        text-align: right;\n",
       "    }\n",
       "</style>\n",
       "<table border=\"1\" class=\"dataframe\">\n",
       "  <thead>\n",
       "    <tr style=\"text-align: right;\">\n",
       "      <th></th>\n",
       "      <th>PassengerId</th>\n",
       "      <th>Survived</th>\n",
       "      <th>Pclass</th>\n",
       "      <th>Name</th>\n",
       "      <th>Sex</th>\n",
       "      <th>Age</th>\n",
       "      <th>SibSp</th>\n",
       "      <th>Parch</th>\n",
       "      <th>Ticket</th>\n",
       "      <th>Fare</th>\n",
       "      <th>Cabin</th>\n",
       "      <th>Embarked</th>\n",
       "    </tr>\n",
       "  </thead>\n",
       "  <tbody>\n",
       "    <tr>\n",
       "      <th>0</th>\n",
       "      <td>1</td>\n",
       "      <td>0</td>\n",
       "      <td>3</td>\n",
       "      <td>Braund, Mr. Owen Harris</td>\n",
       "      <td>male</td>\n",
       "      <td>22.0</td>\n",
       "      <td>1</td>\n",
       "      <td>0</td>\n",
       "      <td>A/5 21171</td>\n",
       "      <td>7.2500</td>\n",
       "      <td>NaN</td>\n",
       "      <td>S</td>\n",
       "    </tr>\n",
       "    <tr>\n",
       "      <th>1</th>\n",
       "      <td>2</td>\n",
       "      <td>1</td>\n",
       "      <td>1</td>\n",
       "      <td>Cumings, Mrs. John Bradley (Florence Briggs Th...</td>\n",
       "      <td>female</td>\n",
       "      <td>38.0</td>\n",
       "      <td>1</td>\n",
       "      <td>0</td>\n",
       "      <td>PC 17599</td>\n",
       "      <td>71.2833</td>\n",
       "      <td>C85</td>\n",
       "      <td>C</td>\n",
       "    </tr>\n",
       "  </tbody>\n",
       "</table>\n",
       "</div>"
      ],
      "text/plain": [
       "   PassengerId  Survived  Pclass  \\\n",
       "0            1         0       3   \n",
       "1            2         1       1   \n",
       "\n",
       "                                                Name     Sex   Age  SibSp  \\\n",
       "0                            Braund, Mr. Owen Harris    male  22.0      1   \n",
       "1  Cumings, Mrs. John Bradley (Florence Briggs Th...  female  38.0      1   \n",
       "\n",
       "   Parch     Ticket     Fare Cabin Embarked  \n",
       "0      0  A/5 21171   7.2500   NaN        S  \n",
       "1      0   PC 17599  71.2833   C85        C  "
      ]
     },
     "execution_count": 9,
     "metadata": {},
     "output_type": "execute_result"
    }
   ],
   "source": [
    "df = pd.read_csv('titanic.csv')\n",
    "df.head(2)"
   ]
  },
  {
   "cell_type": "code",
   "execution_count": 10,
   "id": "a13a1b0f",
   "metadata": {},
   "outputs": [
    {
     "data": {
      "text/plain": [
       "PassengerId      0\n",
       "Survived         0\n",
       "Pclass           0\n",
       "Name             0\n",
       "Sex              0\n",
       "Age            177\n",
       "SibSp            0\n",
       "Parch            0\n",
       "Ticket           0\n",
       "Fare             0\n",
       "Cabin          687\n",
       "Embarked         2\n",
       "dtype: int64"
      ]
     },
     "execution_count": 10,
     "metadata": {},
     "output_type": "execute_result"
    }
   ],
   "source": [
    "df.isnull().sum()"
   ]
  },
  {
   "cell_type": "code",
   "execution_count": 11,
   "id": "3ff54ddf",
   "metadata": {},
   "outputs": [
    {
     "data": {
      "text/plain": [
       "PassengerId    0.000000\n",
       "Survived       0.000000\n",
       "Pclass         0.000000\n",
       "Name           0.000000\n",
       "Sex            0.000000\n",
       "Age            0.198653\n",
       "SibSp          0.000000\n",
       "Parch          0.000000\n",
       "Ticket         0.000000\n",
       "Fare           0.000000\n",
       "Cabin          0.771044\n",
       "Embarked       0.002245\n",
       "dtype: float64"
      ]
     },
     "execution_count": 11,
     "metadata": {},
     "output_type": "execute_result"
    }
   ],
   "source": [
    "df.isnull().mean()"
   ]
  },
  {
   "cell_type": "code",
   "execution_count": 13,
   "id": "b1ca92d1",
   "metadata": {},
   "outputs": [
    {
     "name": "stdout",
     "output_type": "stream",
     "text": [
      "29.69911764705882\n"
     ]
    }
   ],
   "source": [
    "#mean\n",
    "print(df.Age.mean())\n",
    "df['Age_mean_imput'] = df.Age.fillna(df.Age.mean())"
   ]
  },
  {
   "cell_type": "code",
   "execution_count": 14,
   "id": "3309725c",
   "metadata": {},
   "outputs": [
    {
     "name": "stdout",
     "output_type": "stream",
     "text": [
      "28.0\n"
     ]
    }
   ],
   "source": [
    "#median\n",
    "print(df.Age.median())\n",
    "df['Age_median_imput'] = df.Age.fillna(df.Age.median())"
   ]
  },
  {
   "cell_type": "code",
   "execution_count": 17,
   "id": "2fe1a3e2",
   "metadata": {},
   "outputs": [
    {
     "data": {
      "text/html": [
       "<div>\n",
       "<style scoped>\n",
       "    .dataframe tbody tr th:only-of-type {\n",
       "        vertical-align: middle;\n",
       "    }\n",
       "\n",
       "    .dataframe tbody tr th {\n",
       "        vertical-align: top;\n",
       "    }\n",
       "\n",
       "    .dataframe thead th {\n",
       "        text-align: right;\n",
       "    }\n",
       "</style>\n",
       "<table border=\"1\" class=\"dataframe\">\n",
       "  <thead>\n",
       "    <tr style=\"text-align: right;\">\n",
       "      <th></th>\n",
       "      <th>Age</th>\n",
       "      <th>Age_mean_imput</th>\n",
       "      <th>Age_median_imput</th>\n",
       "    </tr>\n",
       "  </thead>\n",
       "  <tbody>\n",
       "    <tr>\n",
       "      <th>886</th>\n",
       "      <td>27.0</td>\n",
       "      <td>27.000000</td>\n",
       "      <td>27.0</td>\n",
       "    </tr>\n",
       "    <tr>\n",
       "      <th>887</th>\n",
       "      <td>19.0</td>\n",
       "      <td>19.000000</td>\n",
       "      <td>19.0</td>\n",
       "    </tr>\n",
       "    <tr>\n",
       "      <th>888</th>\n",
       "      <td>NaN</td>\n",
       "      <td>29.699118</td>\n",
       "      <td>28.0</td>\n",
       "    </tr>\n",
       "    <tr>\n",
       "      <th>889</th>\n",
       "      <td>26.0</td>\n",
       "      <td>26.000000</td>\n",
       "      <td>26.0</td>\n",
       "    </tr>\n",
       "    <tr>\n",
       "      <th>890</th>\n",
       "      <td>32.0</td>\n",
       "      <td>32.000000</td>\n",
       "      <td>32.0</td>\n",
       "    </tr>\n",
       "  </tbody>\n",
       "</table>\n",
       "</div>"
      ],
      "text/plain": [
       "      Age  Age_mean_imput  Age_median_imput\n",
       "886  27.0       27.000000              27.0\n",
       "887  19.0       19.000000              19.0\n",
       "888   NaN       29.699118              28.0\n",
       "889  26.0       26.000000              26.0\n",
       "890  32.0       32.000000              32.0"
      ]
     },
     "execution_count": 17,
     "metadata": {},
     "output_type": "execute_result"
    }
   ],
   "source": [
    "df[['Age','Age_mean_imput','Age_median_imput']].tail(5)"
   ]
  },
  {
   "cell_type": "code",
   "execution_count": 18,
   "id": "e150726c",
   "metadata": {},
   "outputs": [
    {
     "data": {
      "text/html": [
       "<div>\n",
       "<style scoped>\n",
       "    .dataframe tbody tr th:only-of-type {\n",
       "        vertical-align: middle;\n",
       "    }\n",
       "\n",
       "    .dataframe tbody tr th {\n",
       "        vertical-align: top;\n",
       "    }\n",
       "\n",
       "    .dataframe thead th {\n",
       "        text-align: right;\n",
       "    }\n",
       "</style>\n",
       "<table border=\"1\" class=\"dataframe\">\n",
       "  <thead>\n",
       "    <tr style=\"text-align: right;\">\n",
       "      <th></th>\n",
       "      <th>Age</th>\n",
       "      <th>Age_mean_imput</th>\n",
       "      <th>Age_median_imput</th>\n",
       "    </tr>\n",
       "  </thead>\n",
       "  <tbody>\n",
       "    <tr>\n",
       "      <th>count</th>\n",
       "      <td>714.000000</td>\n",
       "      <td>891.000000</td>\n",
       "      <td>891.000000</td>\n",
       "    </tr>\n",
       "    <tr>\n",
       "      <th>mean</th>\n",
       "      <td>29.699118</td>\n",
       "      <td>29.699118</td>\n",
       "      <td>29.361582</td>\n",
       "    </tr>\n",
       "    <tr>\n",
       "      <th>std</th>\n",
       "      <td>14.526497</td>\n",
       "      <td>13.002015</td>\n",
       "      <td>13.019697</td>\n",
       "    </tr>\n",
       "    <tr>\n",
       "      <th>min</th>\n",
       "      <td>0.420000</td>\n",
       "      <td>0.420000</td>\n",
       "      <td>0.420000</td>\n",
       "    </tr>\n",
       "    <tr>\n",
       "      <th>25%</th>\n",
       "      <td>20.125000</td>\n",
       "      <td>22.000000</td>\n",
       "      <td>22.000000</td>\n",
       "    </tr>\n",
       "    <tr>\n",
       "      <th>50%</th>\n",
       "      <td>28.000000</td>\n",
       "      <td>29.699118</td>\n",
       "      <td>28.000000</td>\n",
       "    </tr>\n",
       "    <tr>\n",
       "      <th>75%</th>\n",
       "      <td>38.000000</td>\n",
       "      <td>35.000000</td>\n",
       "      <td>35.000000</td>\n",
       "    </tr>\n",
       "    <tr>\n",
       "      <th>max</th>\n",
       "      <td>80.000000</td>\n",
       "      <td>80.000000</td>\n",
       "      <td>80.000000</td>\n",
       "    </tr>\n",
       "  </tbody>\n",
       "</table>\n",
       "</div>"
      ],
      "text/plain": [
       "              Age  Age_mean_imput  Age_median_imput\n",
       "count  714.000000      891.000000        891.000000\n",
       "mean    29.699118       29.699118         29.361582\n",
       "std     14.526497       13.002015         13.019697\n",
       "min      0.420000        0.420000          0.420000\n",
       "25%     20.125000       22.000000         22.000000\n",
       "50%     28.000000       29.699118         28.000000\n",
       "75%     38.000000       35.000000         35.000000\n",
       "max     80.000000       80.000000         80.000000"
      ]
     },
     "execution_count": 18,
     "metadata": {},
     "output_type": "execute_result"
    }
   ],
   "source": [
    "df[['Age','Age_mean_imput','Age_median_imput']].describe()"
   ]
  },
  {
   "cell_type": "code",
   "execution_count": 23,
   "id": "3596c72f",
   "metadata": {},
   "outputs": [
    {
     "name": "stdout",
     "output_type": "stream",
     "text": [
      "variance of original variable 211.0191247463081\n",
      "variance after mean imputation 169.05239993721085\n",
      "variance after median imputation 169.51249827942328\n"
     ]
    }
   ],
   "source": [
    "#Variance\n",
    "print(\"variance of original variable\",df.Age.var())\n",
    "print(\"variance after mean imputation\",df.Age_mean_imput.var())\n",
    "print(\"variance after median imputation\",df.Age_median_imput.var())"
   ]
  },
  {
   "cell_type": "code",
   "execution_count": 33,
   "id": "e61fc432",
   "metadata": {},
   "outputs": [
    {
     "data": {
      "text/plain": [
       "<matplotlib.legend.Legend at 0x2151dc16340>"
      ]
     },
     "execution_count": 33,
     "metadata": {},
     "output_type": "execute_result"
    },
    {
     "data": {
      "image/png": "[encoded data removed]",
      "text/plain": [
       "<Figure size 640x480 with 1 Axes>"
      ]
     },
     "metadata": {},
     "output_type": "display_data"
    }
   ],
   "source": [
    "ax = df.Age.plot(kind='kde')\n",
    "ax.legend()\n",
    "ax = df.Age_mean_imput.plot(kind='kde',color='green')\n",
    "ax.legend()\n",
    "ax = df.Age_median_imput.plot(kind='kde',color='red')\n",
    "ax.legend()"
   ]
  },
  {
   "cell_type": "markdown",
   "id": "82d98ee4",
   "metadata": {},
   "source": [
    "Here we can see distortion of mean/median imputation is higher than original variable"
   ]
  },
  {
   "cell_type": "markdown",
   "id": "16e6bf08",
   "metadata": {},
   "source": [
    "**mean/median imputaion may affect relationship between other variable** "
   ]
  },
  {
   "cell_type": "code",
   "execution_count": 36,
   "id": "a8db7948",
   "metadata": {},
   "outputs": [
    {
     "data": {
      "text/html": [
       "<div>\n",
       "<style scoped>\n",
       "    .dataframe tbody tr th:only-of-type {\n",
       "        vertical-align: middle;\n",
       "    }\n",
       "\n",
       "    .dataframe tbody tr th {\n",
       "        vertical-align: top;\n",
       "    }\n",
       "\n",
       "    .dataframe thead th {\n",
       "        text-align: right;\n",
       "    }\n",
       "</style>\n",
       "<table border=\"1\" class=\"dataframe\">\n",
       "  <thead>\n",
       "    <tr style=\"text-align: right;\">\n",
       "      <th></th>\n",
       "      <th>Fare</th>\n",
       "      <th>Age</th>\n",
       "      <th>Age_mean_imput</th>\n",
       "      <th>Age_median_imput</th>\n",
       "    </tr>\n",
       "  </thead>\n",
       "  <tbody>\n",
       "    <tr>\n",
       "      <th>Fare</th>\n",
       "      <td>2469.436846</td>\n",
       "      <td>73.849030</td>\n",
       "      <td>59.162200</td>\n",
       "      <td>62.556767</td>\n",
       "    </tr>\n",
       "    <tr>\n",
       "      <th>Age</th>\n",
       "      <td>73.849030</td>\n",
       "      <td>211.019125</td>\n",
       "      <td>211.019125</td>\n",
       "      <td>211.019125</td>\n",
       "    </tr>\n",
       "    <tr>\n",
       "      <th>Age_mean_imput</th>\n",
       "      <td>59.162200</td>\n",
       "      <td>211.019125</td>\n",
       "      <td>169.052400</td>\n",
       "      <td>169.052400</td>\n",
       "    </tr>\n",
       "    <tr>\n",
       "      <th>Age_median_imput</th>\n",
       "      <td>62.556767</td>\n",
       "      <td>211.019125</td>\n",
       "      <td>169.052400</td>\n",
       "      <td>169.512498</td>\n",
       "    </tr>\n",
       "  </tbody>\n",
       "</table>\n",
       "</div>"
      ],
      "text/plain": [
       "                         Fare         Age  Age_mean_imput  Age_median_imput\n",
       "Fare              2469.436846   73.849030       59.162200         62.556767\n",
       "Age                 73.849030  211.019125      211.019125        211.019125\n",
       "Age_mean_imput      59.162200  211.019125      169.052400        169.052400\n",
       "Age_median_imput    62.556767  211.019125      169.052400        169.512498"
      ]
     },
     "execution_count": 36,
     "metadata": {},
     "output_type": "execute_result"
    }
   ],
   "source": [
    "df[['Fare','Age','Age_mean_imput','Age_median_imput']].cov()"
   ]
  },
  {
   "cell_type": "code",
   "execution_count": 37,
   "id": "e4ad38df",
   "metadata": {},
   "outputs": [
    {
     "data": {
      "text/plain": [
       "<AxesSubplot:>"
      ]
     },
     "execution_count": 37,
     "metadata": {},
     "output_type": "execute_result"
    },
    {
     "data": {
      "image/png": "[encoded data removed]",
      "text/plain": [
       "<Figure size 640x480 with 1 Axes>"
      ]
     },
     "metadata": {},
     "output_type": "display_data"
    }
   ],
   "source": [
    "df[['Age','Age_mean_imput','Age_median_imput']].plot(kind='box')"
   ]
  },
  {
   "cell_type": "markdown",
   "id": "4354e4aa",
   "metadata": {},
   "source": [
    "after mean/median imputation there are more outlier."
   ]
  },
  {
   "cell_type": "code",
   "execution_count": null,
   "id": "7aab3f9a",
   "metadata": {},
   "outputs": [],
   "source": []
  }
 ],
 "metadata": {
  "kernelspec": {
   "display_name": "Python 3 (ipykernel)",
   "language": "python",
   "name": "python3"
  },
  "language_info": {
   "codemirror_mode": {
    "name": "ipython",
    "version": 3
   },
   "file_extension": ".py",
   "mimetype": "text/x-python",
   "name": "python",
   "nbconvert_exporter": "python",
   "pygments_lexer": "ipython3",
   "version": "3.10.9"
  },
  "vscode": {
   "interpreter": {
    "hash": "b976e8a00090d37d2efb9b5055e853ad4f558a0702f640b4489636626411f887"
   }
  }
 },
 "nbformat": 4,
 "nbformat_minor": 5
}
